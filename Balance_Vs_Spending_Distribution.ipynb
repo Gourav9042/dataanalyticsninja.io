{
  "nbformat": 4,
  "nbformat_minor": 0,
  "metadata": {
    "colab": {
      "name": "Balance Vs Spending Distribution.ipynb",
      "provenance": [],
      "private_outputs": true,
      "authorship_tag": "ABX9TyMtNO3TUdkkllRakJKbdQUq",
      "include_colab_link": true
    },
    "kernelspec": {
      "name": "python3",
      "display_name": "Python 3"
    }
  },
  "cells": [
    {
      "cell_type": "markdown",
      "metadata": {
        "id": "view-in-github",
        "colab_type": "text"
      },
      "source": [
        "<a href=\"https://colab.research.google.com/github/Gourav9042/dataanalyticsninja.io/blob/master/Balance_Vs_Spending_Distribution.ipynb\" target=\"_parent\"><img src=\"https://colab.research.google.com/assets/colab-badge.svg\" alt=\"Open In Colab\"/></a>"
      ]
    },
    {
      "cell_type": "code",
      "metadata": {
        "id": "yRHsIRobq8wi",
        "colab_type": "code",
        "colab": {}
      },
      "source": [
        "import numpy as np\n",
        "import pandas as pd\n",
        "import matplotlib.pyplot as plt\n",
        "import seaborn as sns\n",
        "sns.set(style=\"darkgrid\")"
      ],
      "execution_count": null,
      "outputs": []
    },
    {
      "cell_type": "code",
      "metadata": {
        "id": "Niw4VGgwrSRT",
        "colab_type": "code",
        "colab": {}
      },
      "source": [
        "df = pd.read_csv('/content/Cleaned data.csv')"
      ],
      "execution_count": null,
      "outputs": []
    },
    {
      "cell_type": "code",
      "metadata": {
        "id": "PavgtUG6rWiU",
        "colab_type": "code",
        "colab": {}
      },
      "source": [
        "df.describe()"
      ],
      "execution_count": null,
      "outputs": []
    },
    {
      "cell_type": "code",
      "metadata": {
        "id": "PpvuA1aWrYJP",
        "colab_type": "code",
        "colab": {}
      },
      "source": [
        "df.columns"
      ],
      "execution_count": null,
      "outputs": []
    },
    {
      "cell_type": "code",
      "metadata": {
        "id": "9tFEl4wVraCV",
        "colab_type": "code",
        "colab": {}
      },
      "source": [
        "df.shape"
      ],
      "execution_count": null,
      "outputs": []
    },
    {
      "cell_type": "code",
      "metadata": {
        "id": "GL2VsCPUrbLs",
        "colab_type": "code",
        "colab": {}
      },
      "source": [
        "sns.relplot(x='age', y='balance', data=df)"
      ],
      "execution_count": null,
      "outputs": []
    },
    {
      "cell_type": "code",
      "metadata": {
        "id": "1lUV6j1xr41i",
        "colab_type": "code",
        "colab": {}
      },
      "source": [
        "sns.relplot(x='age',y='spend', data=df)"
      ],
      "execution_count": null,
      "outputs": []
    },
    {
      "cell_type": "code",
      "metadata": {
        "id": "rx3_tiaAsDYG",
        "colab_type": "code",
        "colab": {}
      },
      "source": [
        "df.columns"
      ],
      "execution_count": null,
      "outputs": []
    },
    {
      "cell_type": "code",
      "metadata": {
        "id": "lGcPUXyesInm",
        "colab_type": "code",
        "colab": {}
      },
      "source": [
        "sns.relplot(x='age', y='balance', hue='gender', style='gender', data=df)"
      ],
      "execution_count": null,
      "outputs": []
    },
    {
      "cell_type": "code",
      "metadata": {
        "id": "yI3saSMMsSE8",
        "colab_type": "code",
        "colab": {}
      },
      "source": [
        "sns.relplot(x='age',y='spend', hue='gender', style='gender', data=df)"
      ],
      "execution_count": null,
      "outputs": []
    },
    {
      "cell_type": "code",
      "metadata": {
        "id": "APZx0hnUsYr0",
        "colab_type": "code",
        "colab": {}
      },
      "source": [
        "sns.lineplot(x='age', y='balance', hue='gender', data=df)"
      ],
      "execution_count": null,
      "outputs": []
    },
    {
      "cell_type": "code",
      "metadata": {
        "id": "zb5YcHdys6Mx",
        "colab_type": "code",
        "colab": {}
      },
      "source": [
        "sns.lineplot(x='age', y='spend', hue='gender', data=df)"
      ],
      "execution_count": null,
      "outputs": []
    },
    {
      "cell_type": "code",
      "metadata": {
        "id": "LwBqk3jLtAKR",
        "colab_type": "code",
        "colab": {}
      },
      "source": [
        "sns.lineplot(x='date', y='balance', hue='gender', style='gender', dashes=False, data=df)"
      ],
      "execution_count": null,
      "outputs": []
    },
    {
      "cell_type": "code",
      "metadata": {
        "id": "KRgItgovuhXF",
        "colab_type": "code",
        "colab": {}
      },
      "source": [
        "sns.catplot(x='gender', y='balance', kind='box', hue='gender', data=df)"
      ],
      "execution_count": null,
      "outputs": []
    },
    {
      "cell_type": "code",
      "metadata": {
        "id": "xNJX8ry2u4qn",
        "colab_type": "code",
        "colab": {}
      },
      "source": [
        "sns.jointplot(x='balance', y='spend', data=df)"
      ],
      "execution_count": null,
      "outputs": []
    },
    {
      "cell_type": "code",
      "metadata": {
        "id": "rKHrjxXcvkdc",
        "colab_type": "code",
        "colab": {}
      },
      "source": [
        "with sns.axes_style(\"white\"):\n",
        "  sns.jointplot(x='balance',y='spend', kind='hex', color='K', data=df)"
      ],
      "execution_count": null,
      "outputs": []
    },
    {
      "cell_type": "code",
      "metadata": {
        "id": "Y-J0FxgEv5ut",
        "colab_type": "code",
        "colab": {}
      },
      "source": [
        "  sns.jointplot(x='balance',y='spend', kind='kde', data=df);"
      ],
      "execution_count": null,
      "outputs": []
    },
    {
      "cell_type": "code",
      "metadata": {
        "id": "GU0NVjVBwi_G",
        "colab_type": "code",
        "colab": {}
      },
      "source": [
        "sns.pairplot(df)"
      ],
      "execution_count": null,
      "outputs": []
    },
    {
      "cell_type": "code",
      "metadata": {
        "id": "FwBydPH4wtgX",
        "colab_type": "code",
        "colab": {}
      },
      "source": [
        "sns.pairplot(df,hue='gender')"
      ],
      "execution_count": null,
      "outputs": []
    },
    {
      "cell_type": "code",
      "metadata": {
        "id": "eHLVHR07wy2m",
        "colab_type": "code",
        "colab": {}
      },
      "source": [
        ""
      ],
      "execution_count": null,
      "outputs": []
    },
    {
      "cell_type": "markdown",
      "metadata": {
        "id": "_x86NZ6Kw7mO",
        "colab_type": "text"
      },
      "source": [
        "Linear relationship\n"
      ]
    },
    {
      "cell_type": "code",
      "metadata": {
        "id": "a5rG-t32w-aS",
        "colab_type": "code",
        "colab": {}
      },
      "source": [
        "sns.set_color_codes(palette='deep')\n",
        "df.columns"
      ],
      "execution_count": null,
      "outputs": []
    },
    {
      "cell_type": "code",
      "metadata": {
        "id": "yj0TAosPxGe4",
        "colab_type": "code",
        "colab": {}
      },
      "source": [
        "sns.regplot(x='balance', y='spend', data=df)"
      ],
      "execution_count": null,
      "outputs": []
    },
    {
      "cell_type": "code",
      "metadata": {
        "id": "joc2Jb0_xz5o",
        "colab_type": "code",
        "colab": {}
      },
      "source": [
        "sns.jointplot(x='balance',y='spend',data=df,kind='reg');"
      ],
      "execution_count": null,
      "outputs": []
    }
  ]
}